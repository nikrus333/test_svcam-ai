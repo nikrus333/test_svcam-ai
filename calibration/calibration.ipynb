{
 "cells": [
  {
   "cell_type": "code",
   "execution_count": null,
   "metadata": {},
   "outputs": [],
   "source": [
    "from colabcode import ColabCode"
   ]
  },
  {
   "cell_type": "code",
   "execution_count": null,
   "metadata": {},
   "outputs": [],
   "source": [
    "import cv2\n",
    "import os\n",
    "import numpy as np\n",
    "import matplotlib.pyplot as plt\n",
    "from PIL import Image\n",
    "\n",
    "np.set_printoptions(suppress=True)"
   ]
  },
  {
   "cell_type": "code",
   "execution_count": null,
   "metadata": {},
   "outputs": [],
   "source": [
    "# Object points in 3D\n",
    "GRID_SHAPE = (8,5)\n",
    "objp = np.zeros((GRID_SHAPE[0]*GRID_SHAPE[1],3), np.float32)\n",
    "objp[:,:2] = np.mgrid[0:GRID_SHAPE[0], 0:GRID_SHAPE[1]].T.reshape(-1,2)\n",
    "objp *= 30 # One square on my grid has 20mm\n",
    "\n",
    "criteria = (cv2.TERM_CRITERIA_EPS + cv2.TERM_CRITERIA_MAX_ITER, 30, 0.001)\n",
    "flags = cv2.CALIB_CB_ADAPTIVE_THRESH + cv2.CALIB_CB_NORMALIZE_IMAGE + cv2.CALIB_CB_FAST_CHECK\n"
   ]
  },
  {
   "cell_type": "code",
   "execution_count": null,
   "metadata": {},
   "outputs": [],
   "source": [
    "FOLDER_LEFT = \"stereo_left/\"\n",
    "FOLDER_RIGHT = \"stereo_right/\"\n"
   ]
  },
  {
   "cell_type": "code",
   "execution_count": null,
   "metadata": {},
   "outputs": [],
   "source": [
    "fnames = os.listdir(FOLDER_LEFT)\n",
    "obj_pts = []\n",
    "img_pts_left = []\n",
    "criteria = (cv2.TERM_CRITERIA_EPS + cv2.TERM_CRITERIA_MAX_ITER, 30, 0.001)\n",
    "\n",
    "for fname in fnames:\n",
    "    print(f\"processing {fname}\")\n",
    "    img_BGR = cv2.imread (FOLDER_LEFT+fname)\n",
    "    img_RGB = cv2.cvtColor( img_BGR, cv2.COLOR_BGR2RGB)\n",
    "    img_GRAY = cv2.cvtColor( img_RGB, cv2.COLOR_BGR2GRAY)\n",
    "    arr_l = np.array (img_GRAY)\n",
    "    # arr = np.array(img_GRAY)\n",
    "\n",
    "    ret, corners = cv2.findChessboardCorners(img_GRAY, GRID_SHAPE, flags)\n",
    "\n",
    "    arr_vis = cv2.drawChessboardCorners(img_GRAY, GRID_SHAPE, corners, ret)\n",
    "    plt.imshow(arr_vis, cmap='gray')\n",
    "    plt.show()\n",
    "\n",
    "    if ret:\n",
    "        corners_subpix = cv2.cornerSubPix(img_GRAY,corners,(11,11),(-1,-1),criteria)\n",
    "        obj_pts.append(objp)\n",
    "        img_pts_left.append(corners_subpix)\n",
    "\n"
   ]
  },
  {
   "cell_type": "code",
   "execution_count": null,
   "metadata": {},
   "outputs": [],
   "source": [
    "ret, K_l, dist_coeff_l, rvecs, tvecs = cv2.calibrateCamera(obj_pts, img_pts_left, (img_GRAY.shape[1], img_GRAY.shape[0]), None,None)"
   ]
  },
  {
   "cell_type": "code",
   "execution_count": null,
   "metadata": {},
   "outputs": [],
   "source": [
    "ret"
   ]
  },
  {
   "cell_type": "code",
   "execution_count": null,
   "metadata": {},
   "outputs": [],
   "source": [
    "K_l"
   ]
  },
  {
   "cell_type": "code",
   "execution_count": null,
   "metadata": {},
   "outputs": [],
   "source": [
    "dist_coeff_l"
   ]
  },
  {
   "cell_type": "code",
   "execution_count": null,
   "metadata": {},
   "outputs": [],
   "source": [
    "img = Image.open(FOLDER_LEFT+\"5.png\")\n",
    "arr = np.array(img)\n",
    "\n",
    "arr_corr = cv2.undistort(arr, K_l, dist_coeff_l, None, K_l)\n",
    "\n",
    "fig, (ax1, ax2) = plt.subplots(1, 2, figsize=(20,10))\n",
    "ax1.imshow(arr, cmap='gray')\n",
    "ax2.imshow(arr_corr, cmap='gray')\n",
    "plt.show()\n"
   ]
  },
  {
   "cell_type": "code",
   "execution_count": null,
   "metadata": {},
   "outputs": [],
   "source": [
    "fnames = os.listdir(FOLDER_RIGHT)\n",
    "obj_pts = []\n",
    "img_pts_right  = []\n",
    "criteria = (cv2.TERM_CRITERIA_EPS + cv2.TERM_CRITERIA_MAX_ITER, 30, 0.001)\n",
    "\n",
    "for fname in fnames:\n",
    "    print(f\"processing {fname}\")\n",
    "    img_BGR = cv2.imread (FOLDER_RIGHT+fname)\n",
    "    img_RGB = cv2.cvtColor( img_BGR, cv2.COLOR_BGR2RGB)\n",
    "    img_GRAY = cv2.cvtColor( img_RGB, cv2.COLOR_BGR2GRAY)\n",
    "    arr_r = np.array (img_GRAY)\n",
    "    # arr = np.array(img_GRAY)\n",
    "\n",
    "    ret, corners = cv2.findChessboardCorners(img_GRAY, GRID_SHAPE, flags)\n",
    "\n",
    "    arr_vis = cv2.drawChessboardCorners(img_GRAY, GRID_SHAPE, corners, ret)\n",
    "    plt.imshow(arr_vis, cmap='gray')\n",
    "    plt.show()\n",
    "\n",
    "    if ret:\n",
    "        corners_subpix = cv2.cornerSubPix(img_GRAY,corners,(11,11),(-1,-1),criteria)\n",
    "        obj_pts.append(objp)\n",
    "        img_pts_right.append(corners_subpix)"
   ]
  },
  {
   "cell_type": "code",
   "execution_count": null,
   "metadata": {},
   "outputs": [],
   "source": [
    "ret, K_r, dist_coeff_r, rvecs, tvecs = cv2.calibrateCamera(obj_pts , img_pts_right , (img_GRAY.shape[1], img_GRAY.shape[0]), None, None)"
   ]
  },
  {
   "cell_type": "code",
   "execution_count": null,
   "metadata": {},
   "outputs": [],
   "source": [
    "K_r"
   ]
  },
  {
   "cell_type": "code",
   "execution_count": null,
   "metadata": {},
   "outputs": [],
   "source": [
    "K_l"
   ]
  },
  {
   "cell_type": "code",
   "execution_count": null,
   "metadata": {},
   "outputs": [],
   "source": [
    "dist_coeff_r"
   ]
  },
  {
   "cell_type": "code",
   "execution_count": null,
   "metadata": {},
   "outputs": [],
   "source": [
    "dist_coeff_l"
   ]
  },
  {
   "cell_type": "code",
   "execution_count": null,
   "metadata": {},
   "outputs": [],
   "source": [
    "img = Image.open(FOLDER_RIGHT+\"5.png\")\n",
    "arr = np.array(img)\n",
    "\n",
    "arr_corr = cv2.undistort(arr, K_r, dist_coeff_r, None, K_l)\n",
    "\n",
    "fig, (ax1, ax2) = plt.subplots(1, 2, figsize=(20,10))\n",
    "ax1.imshow(arr, cmap='gray')\n",
    "ax2.imshow(arr_corr, cmap='gray')\n",
    "plt.show()"
   ]
  },
  {
   "cell_type": "code",
   "execution_count": null,
   "metadata": {},
   "outputs": [],
   "source": [
    "np.save(\"K_l.npy\", K_l)\n",
    "np.save(\"K_r.npy\", K_r)\n",
    "\n",
    "np.save(\"dist_coeff_l.npy\", dist_coeff_l)\n",
    "np.save(\"dist_coeff_r.npy\", dist_coeff_r)"
   ]
  },
  {
   "cell_type": "code",
   "execution_count": null,
   "metadata": {},
   "outputs": [],
   "source": [
    "flags = 0\n",
    "flags |= cv2.CALIB_FIX_INTRINSIC\n",
    "\n",
    "criteria_stereo= (cv2.TERM_CRITERIA_EPS + cv2.TERM_CRITERIA_MAX_ITER, 30, 0.001)\n",
    "\n",
    "# This step is performed to transformation between the two cameras and calculate Essential and Fundamenatl matrix\n",
    "retS, K_l, dist_coeff_l, K_r, dist_coeff_r, Rot, Trns, Emat, Fmat = cv2.stereoCalibrate(\n",
    "    obj_pts,\n",
    "    img_pts_left,\n",
    "    img_pts_right,\n",
    "    K_l, dist_coeff_l,\n",
    "    K_r, dist_coeff_r,\n",
    "    img_GRAY.shape[::-1],\n",
    "    criteria_stereo,\n",
    "    flags)\n"
   ]
  },
  {
   "cell_type": "code",
   "execution_count": null,
   "metadata": {},
   "outputs": [],
   "source": [
    "rect_l, rect_r, proj_mat_l, proj_mat_r, Q, roiL, roiR = cv2.stereoRectify(K_l, dist_coeff_l, K_r, dist_coeff_r, img_GRAY.shape[::-1], Rot, Trns, 1 ,(0,0))"
   ]
  },
  {
   "cell_type": "code",
   "execution_count": null,
   "metadata": {},
   "outputs": [],
   "source": [
    "left_stereo_maps = cv2.initUndistortRectifyMap(K_l, dist_coeff_l, rect_l, proj_mat_l,\n",
    "                                             img_GRAY.shape[::-1], cv2.CV_16SC2)\n",
    "right_stereo_maps = cv2.initUndistortRectifyMap(K_r, dist_coeff_r, rect_r, proj_mat_r,\n",
    "                                              img_GRAY.shape[::-1], cv2.CV_16SC2)\n"
   ]
  },
  {
   "cell_type": "code",
   "execution_count": null,
   "metadata": {},
   "outputs": [],
   "source": [
    "arr_l_rect = cv2.remap(arr_l, left_stereo_maps[0],left_stereo_maps[1], cv2.INTER_LANCZOS4, cv2.BORDER_CONSTANT, 0)\n",
    "arr_r_rect = cv2.remap(arr_r, right_stereo_maps[0],right_stereo_maps[1], cv2.INTER_LANCZOS4, cv2.BORDER_CONSTANT, 0)"
   ]
  },
  {
   "cell_type": "code",
   "execution_count": null,
   "metadata": {},
   "outputs": [],
   "source": [
    "for fname_l, fname_r in zip(sorted(os.listdir(FOLDER_LEFT)), sorted(os.listdir(FOLDER_RIGHT))):\n",
    "\n",
    "    print(f\"Images L: {fname_l}, R: {fname_r}\")\n",
    "\n",
    "    img_l, img_r = Image.open(FOLDER_LEFT + fname_l), Image.open(FOLDER_RIGHT + fname_r)\n",
    "    arr_l, arr_r = np.array(img_l), np.array(img_r)\n",
    "\n",
    "    arr_l_rect = cv2.remap(arr_l, left_stereo_maps[0],left_stereo_maps[1], cv2.INTER_LANCZOS4, cv2.BORDER_CONSTANT, 0)\n",
    "    arr_r_rect = cv2.remap(arr_r, right_stereo_maps[0],right_stereo_maps[1], cv2.INTER_LANCZOS4, cv2.BORDER_CONSTANT, 0)\n",
    "\n",
    "    fig, [(ax1, ax2), (ax3, ax4)] = plt.subplots(2, 2, figsize=(10,3))\n",
    "\n",
    "    # before\n",
    "    ax1.imshow(arr_l[100:200,:], cmap='binary')\n",
    "    ax2.imshow(arr_r[100:200,:], cmap='binary')\n",
    "\n",
    "    ax1.title.set_text('Original L')\n",
    "    ax2.title.set_text('Original R')\n",
    "\n",
    "\n",
    "    # after\n",
    "    ax3.imshow(arr_l_rect[100:200,:], cmap='gray')\n",
    "    ax4.imshow(arr_r_rect[100:200,:], cmap='gray')\n",
    "\n",
    "    ax3.title.set_text('Rectified L')\n",
    "    ax4.title.set_text('Rectified R')\n",
    "    plt.show()"
   ]
  },
  {
   "cell_type": "code",
   "execution_count": null,
   "metadata": {},
   "outputs": [],
   "source": [
    "cv_file = cv2.FileStorage(\"rectify_map_imx219_160deg_1080p_new.yaml\", cv2.FILE_STORAGE_WRITE)\n",
    "cv_file.write(\"map_l_1\", left_stereo_maps[0])\n",
    "cv_file.write(\"map_l_2\", left_stereo_maps[1])\n",
    "cv_file.write(\"map_r_1\", right_stereo_maps[0])\n",
    "cv_file.write(\"map_r_2\", right_stereo_maps[1])\n",
    "cv_file.release()"
   ]
  },
  {
   "cell_type": "code",
   "execution_count": null,
   "metadata": {},
   "outputs": [],
   "source": [
    "map_ref_x, map_ref_y = np.mgrid[0:1080:1, 0:1920:1]"
   ]
  },
  {
   "cell_type": "code",
   "execution_count": null,
   "metadata": {},
   "outputs": [],
   "source": [
    "min_disp = 0\n",
    "num_disp = 100\n",
    "window_size = 15\n",
    "\n",
    "# объект StereoSGBM для вычисления disparity map\n",
    "stereo = cv2.StereoSGBM_create(numDisparities=16, blockSize=15)\n",
    "\n",
    "fig, axs = plt.subplots(2, 2, figsize=(20,10))\n",
    "\n",
    "\n",
    "# print(f\"Images L: {fname_l}, R: {fname_r}\"\n",
    "img_l, img_r = Image.open(FOLDER_LEFT + 'left_cam_img.png'), Image.open(FOLDER_RIGHT + \"right_cam_img.png\")\n",
    "arr_l, arr_r = np.array(img_l), np.array(img_r)\n",
    "\n",
    "arr_l_rect = cv2.remap(arr_l, left_stereo_maps[0],left_stereo_maps[1], cv2.INTER_LANCZOS4, cv2.BORDER_CONSTANT, 0)\n",
    "arr_r_rect = cv2.remap(arr_r, right_stereo_maps[0],right_stereo_maps[1], cv2.INTER_LANCZOS4, cv2.BORDER_CONSTANT, 0)\n",
    "\n",
    "# Вычислите disparity map\n",
    "disparity_map = stereo.compute( arr_l_rect, arr_r_rect)\n",
    "\n",
    "# before\n",
    "axs[0][0].imshow(arr_l_rect)\n",
    "axs[0][1].imshow(arr_r_rect)\n",
    "\n",
    "axs[0][0].title.set_text('Rectified L')\n",
    "axs[0][0].title.set_text('Rectified R')\n",
    "\n",
    "# after\n",
    "axs[1][0].imshow((disparity_map / 16).astype(np.uint8))\n",
    "axs[1][0].title.set_text('Disparity Map')\n",
    "plt.show()\n",
    "\n",
    "\n",
    "\n",
    "\n",
    "# depth_map_SGBM = (6.5 * focal_length) / (disparity_map + 1e-6)\n",
    "\n",
    "\n",
    "\n",
    "# cv2.imshow(\"Disparity Map\", (disparity_map / 16).astype(np.uint8))  # Для удобства, масштабируем на 16\n",
    "# cv2.imshow(\"Depth Map\", depth_map.astype(np.float32))\n",
    "# # Показать карту глубины\n",
    "# cv2.imshow('Disparity', disparity / disparity.max())"
   ]
  }
 ],
 "metadata": {
  "kernelspec": {
   "display_name": "Python 3",
   "language": "python",
   "name": "python3"
  },
  "language_info": {
   "name": "python",
   "version": "3.10.12"
  }
 },
 "nbformat": 4,
 "nbformat_minor": 2
}
